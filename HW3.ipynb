{
 "cells": [
  {
   "cell_type": "markdown",
   "metadata": {
    "collapsed": false
   },
   "source": [
    "## Preprocessing"
   ]
  },
  {
   "cell_type": "code",
   "execution_count": 1,
   "metadata": {
    "collapsed": true
   },
   "outputs": [],
   "source": [
    "from scipy.io import arff\n",
    "import pandas as pd\n",
    "import numpy as np\n",
    "\n",
    "data = arff.loadarff('4year.arff')\n",
    "df = pd.DataFrame(data[0])\n",
    "df['bankruptcy'] = (df['class']==b'1')\n",
    "del df['class']\n",
    "df.columns = ['X{0:02d}'.format(k) for k in range(1,65)] + ['bankruptcy']"
   ]
  },
  {
   "cell_type": "code",
   "execution_count": 2,
   "metadata": {
    "collapsed": false
   },
   "outputs": [],
   "source": [
    "from sklearn.preprocessing import Imputer\n",
    "\n",
    "imr = Imputer(missing_values='NaN', strategy='mean', axis=0)\n",
    "imr = imr.fit(df.values)\n",
    "imputed_data = imr.transform(df.values)"
   ]
  },
  {
   "cell_type": "code",
   "execution_count": 3,
   "metadata": {
    "collapsed": false
   },
   "outputs": [],
   "source": [
    "from sklearn.model_selection import train_test_split\n",
    "\n",
    "X, y = imputed_data[:, :-1], imputed_data[:, -1]\n",
    "\n",
    "X_train, X_test, y_train, y_test =\\\n",
    "    train_test_split(X, y, \n",
    "                     test_size=0.3, \n",
    "                     random_state=0, \n",
    "                     stratify=y)"
   ]
  },
  {
   "cell_type": "markdown",
   "metadata": {},
   "source": [
    "## Using PCA to extract 3 features, and apply LR using pipeline, grid research and 10-fold cross validation to find optimal hyperparameters"
   ]
  },
  {
   "cell_type": "code",
   "execution_count": 4,
   "metadata": {
    "collapsed": false
   },
   "outputs": [
    {
     "name": "stdout",
     "output_type": "stream",
     "text": [
      "0.946454625036\n",
      "{'logisticregression__C': 0.01}\n"
     ]
    }
   ],
   "source": [
    "from sklearn.preprocessing import StandardScaler\n",
    "from sklearn.decomposition import PCA\n",
    "from sklearn.linear_model import LogisticRegression\n",
    "from sklearn.pipeline import make_pipeline\n",
    "from sklearn.model_selection import GridSearchCV\n",
    "from sklearn.svm import SVC\n",
    "\n",
    "pipe_lr = make_pipeline(StandardScaler(),\n",
    "                        PCA(n_components=3),\n",
    "                        LogisticRegression(random_state=1))\n",
    "\n",
    "param_range_lr = [0.0001, 0.001, 0.01, 0.1, 1.0, 10.0, 100.0, 1000.0]\n",
    "param_grid_lr = [{'logisticregression__C': param_range_lr}]\n",
    "\n",
    "gs_lr = GridSearchCV(estimator=pipe_lr, \n",
    "                     param_grid=param_grid_lr, \n",
    "                     scoring='accuracy', \n",
    "                     cv=10,\n",
    "                     n_jobs=-1)\n",
    "gs_lr = gs_lr.fit(X_train, y_train)\n",
    "print(gs_lr.best_score_)\n",
    "print(gs_lr.best_params_)"
   ]
  },
  {
   "cell_type": "markdown",
   "metadata": {},
   "source": [
    "## Using PCA to extract 3 features, and apply Decision Tree using pipeline, grid research and 10-fold cross validation to find optimal hyperparameters"
   ]
  },
  {
   "cell_type": "code",
   "execution_count": 11,
   "metadata": {
    "collapsed": false
   },
   "outputs": [
    {
     "name": "stdout",
     "output_type": "stream",
     "text": [
      "0.947475926466\n",
      "{'decisiontreeclassifier__criterion': 'gini', 'decisiontreeclassifier__max_depth': 2}\n"
     ]
    }
   ],
   "source": [
    "from sklearn.tree import DecisionTreeClassifier\n",
    "\n",
    "pipe_dtree = make_pipeline(StandardScaler(),\n",
    "                        PCA(n_components=3),\n",
    "                        DecisionTreeClassifier(random_state=1))\n",
    "\n",
    "param_range_dtree = [2, 4, 6, 8, 10, 12, 14]\n",
    "param_grid_dtree = [{'decisiontreeclassifier__max_depth': param_range_dtree,\n",
    "                     'decisiontreeclassifier__criterion':['gini']}]\n",
    "\n",
    "\n",
    "gs_dtree = GridSearchCV(estimator=pipe_dtree, \n",
    "                     param_grid=param_grid_dtree, \n",
    "                     scoring='accuracy', \n",
    "                     cv=10,\n",
    "                     n_jobs=-1)\n",
    "gs_dtree = gs_dtree.fit(X_train, y_train)\n",
    "print(gs_dtree.best_score_)\n",
    "print(gs_dtree.best_params_)"
   ]
  },
  {
   "cell_type": "markdown",
   "metadata": {},
   "source": [
    "## Using PCA to extract 3 features, and apply SVM using pipeline, grid research and 10-fold cross validation to find optimal hyperparameters"
   ]
  },
  {
   "cell_type": "code",
   "execution_count": 12,
   "metadata": {
    "collapsed": false
   },
   "outputs": [
    {
     "name": "stdout",
     "output_type": "stream",
     "text": [
      "0.947475926466\n",
      "{'svc__C': 0.01, 'svc__kernel': 'linear'}\n"
     ]
    }
   ],
   "source": [
    "pipe_svc = make_pipeline(StandardScaler(),\n",
    "                         PCA(n_components=3),\n",
    "                         SVC(random_state=1))\n",
    "\n",
    "param_range_svc = [0.01, 0.1, 1]\n",
    "param_grid_svc = [{'svc__C': param_range_svc, \n",
    "                   'svc__kernel': ['linear']},\n",
    "                  {'svc__C': param_range_svc, \n",
    "                   'svc__gamma': param_range_svc, \n",
    "                   'svc__kernel': ['rbf']}]\n",
    "\n",
    "gs_svc = GridSearchCV(estimator=pipe_svc, \n",
    "                      param_grid=param_grid_svc, \n",
    "                      scoring='accuracy', \n",
    "                      cv=10,\n",
    "                      n_jobs=-1)\n",
    "gs_svc = gs_svc.fit(X_train, y_train)\n",
    "print(gs_svc.best_score_)\n",
    "print(gs_svc.best_params_)"
   ]
  },
  {
   "cell_type": "code",
   "execution_count": null,
   "metadata": {
    "collapsed": true
   },
   "outputs": [],
   "source": []
  }
 ],
 "metadata": {
  "kernelspec": {
   "display_name": "Python 3",
   "language": "python",
   "name": "python3"
  },
  "language_info": {
   "codemirror_mode": {
    "name": "ipython",
    "version": 3
   },
   "file_extension": ".py",
   "mimetype": "text/x-python",
   "name": "python",
   "nbconvert_exporter": "python",
   "pygments_lexer": "ipython3",
   "version": "3.6.0"
  }
 },
 "nbformat": 4,
 "nbformat_minor": 2
}
